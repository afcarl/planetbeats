{
 "cells": [
  {
   "cell_type": "code",
   "execution_count": 3,
   "metadata": {
    "collapsed": false
   },
   "outputs": [],
   "source": [
    "import rebound\n",
    "import numpy as np\n",
    "import matplotlib.pyplot as plt\n",
    "from subprocess import call"
   ]
  },
  {
   "cell_type": "code",
   "execution_count": 4,
   "metadata": {
    "collapsed": false
   },
   "outputs": [
    {
     "name": "stderr",
     "output_type": "stream",
     "text": [
      "/Users/dtamayo/Documents/workspace/rebound/rebound/simulation.py:374: RuntimeWarning: Binary file was saved with a different version of REBOUND. Binary format might have changed.\n",
      "  warnings.warn(message, RuntimeWarning)\n",
      "/Users/dtamayo/Documents/workspace/rebound/rebound/simulation.py:374: RuntimeWarning: You have to reset function pointers after creating a reb_simulation struct with a binary file.\n",
      "  warnings.warn(message, RuntimeWarning)\n"
     ]
    },
    {
     "name": "stdout",
     "output_type": "stream",
     "text": [
      "CPU times: user 5.79 s, sys: 66.4 ms, total: 5.85 s\n",
      "Wall time: 6.01 s\n"
     ]
    }
   ],
   "source": [
    "%%time\n",
    "\n",
    "sim = rebound.Simulation.from_file(\"trappist.bin\")\n",
    "ps = sim.particles\n",
    "\n",
    "movie=True\n",
    "Norbits = 1 # of outer planet\n",
    "Nsec = 1 # length of resulting movie\n",
    "scale=ps[1].a/5 # length scale for making dots bigger\n",
    "\n",
    "if movie:\n",
    "    call(\"rm -f pngs/*\", shell=True)\n",
    "\n",
    "lw = 3\n",
    "fps = 30\n",
    "\n",
    "sim.t = 0\n",
    "sim.dt = ps[1].P/100\n",
    "tmax = Norbits*ps[-1].P/sim.dt\n",
    "\n",
    "Nfigs = Nsec*fps\n",
    "times = np.linspace(0, ps[-1].P*Norbits, Nfigs)\n",
    "\n",
    "yprev = np.zeros(sim.N)\n",
    "refsize=25*lw # this is what REBOUND uses for size of circles in call to plt.scatter\n",
    "with open(\"times.txt\", \"w\") as f:\n",
    "    for i, time in enumerate(times):\n",
    "        while sim.t < time:\n",
    "            sim.step()\n",
    "            for j in range(1,sim.N):\n",
    "                if yprev[j] < 0 and ps[j].y > 0:\n",
    "                    f.write(\"{0:6f}\\t{1}\\n\".format(sim.t, j))\n",
    "                yprev[j] = ps[j].y\n",
    "        if movie:\n",
    "            fig = rebound.OrbitPlot(sim, figsize=(8,8), color=True, lw=lw)\n",
    "            ax = fig.axes[0]\n",
    "            ax.axis('off')\n",
    "            for p in ps[1:]:\n",
    "                if p.x > 0:\n",
    "                    ax.scatter(p.x, p.y, s=refsize*(1+5*np.exp(-np.abs(p.y)/scale)),color='k', marker='o')\n",
    "            fig.savefig('pngs/trappist{0:0=3d}.png'.format(i), transparent=True)\n",
    "            plt.close(fig)"
   ]
  },
  {
   "cell_type": "code",
   "execution_count": 41,
   "metadata": {
    "collapsed": false
   },
   "outputs": [
    {
     "data": {
      "text/plain": [
       "0"
      ]
     },
     "execution_count": 41,
     "metadata": {},
     "output_type": "execute_result"
    }
   ],
   "source": [
    "filename = \"test.mp4\"\n",
    "try:\n",
    "    call(\"rm -f {0}\".format(filename), shell=True)\n",
    "except:\n",
    "    pass\n",
    "call(\"ffmpeg -r {0} -i pngs/trappist%03d.png -c:v libx264 -pix_fmt yuv420p {1}\".format(fps, filename), shell=True)"
   ]
  },
  {
   "cell_type": "code",
   "execution_count": null,
   "metadata": {
    "collapsed": true
   },
   "outputs": [],
   "source": []
  }
 ],
 "metadata": {
  "kernelspec": {
   "display_name": "Python 3",
   "language": "python",
   "name": "python3"
  },
  "language_info": {
   "codemirror_mode": {
    "name": "ipython",
    "version": 3
   },
   "file_extension": ".py",
   "mimetype": "text/x-python",
   "name": "python",
   "nbconvert_exporter": "python",
   "pygments_lexer": "ipython3",
   "version": "3.5.1"
  }
 },
 "nbformat": 4,
 "nbformat_minor": 2
}
