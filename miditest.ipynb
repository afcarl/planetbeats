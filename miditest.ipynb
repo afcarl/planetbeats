{
 "cells": [
  {
   "cell_type": "code",
   "execution_count": 9,
   "metadata": {
    "collapsed": false
   },
   "outputs": [],
   "source": [
    "from midiutil import MIDIFile\n",
    "from subprocess import call\n",
    "import numpy as np"
   ]
  },
  {
   "cell_type": "code",
   "execution_count": 10,
   "metadata": {
    "collapsed": false
   },
   "outputs": [],
   "source": [
    "# 12 notes between octaves, freq = f0*2**(n/12). \n",
    "# n = 12 log_2(freq/f0)\n",
    "freqs = [130.81, 198.71039594, 266.61557887, 402.42797069, 606.14619962, 1013.5641465, 1624.73500794]\n",
    "\n",
    "notes = []\n",
    "for freq in freqs:\n",
    "    midinote = 60+12*np.log(freq/freqs[0])/np.log(2)\n",
    "    notes.append(int(np.round(midinote)))\n",
    "    \n",
    "track0   = 0\n",
    "track1   = 1\n",
    "channel  = 0\n",
    "time     = 0   # In beats\n",
    "duration = 1   # In beats\n",
    "tempo    = 500  # In BPM\n",
    "volume   = 100 # 0-127, as per the MIDI standard\n",
    "\n",
    "MyMIDI = MIDIFile(2, adjust_origin=True) # One track, defaults to format 1 (tempo track\n",
    "                     # automatically created)\n",
    "MyMIDI.addTempo(track0, time, tempo)\n",
    "\n",
    "for i in notes:\n",
    "    MyMIDI.addNote(track0, channel, i, time+.03, duration, volume)\n",
    "    #MyMIDI.addNote(track1, channel, degrees[7-i], time, duration, volume)\n",
    "    time = time + 1\n",
    "\n",
    "with open(\"major-scale.mid\", \"wb\") as output_file:\n",
    "    MyMIDI.writeFile(output_file)"
   ]
  },
  {
   "cell_type": "code",
   "execution_count": 11,
   "metadata": {
    "collapsed": false
   },
   "outputs": [
    {
     "data": {
      "text/plain": [
       "0"
      ]
     },
     "execution_count": 11,
     "metadata": {},
     "output_type": "execute_result"
    }
   ],
   "source": [
    "call(\"open major-scale.mid\", shell=True)"
   ]
  },
  {
   "cell_type": "code",
   "execution_count": null,
   "metadata": {
    "collapsed": true
   },
   "outputs": [],
   "source": []
  }
 ],
 "metadata": {
  "kernelspec": {
   "display_name": "Python 3",
   "language": "python",
   "name": "python3"
  },
  "language_info": {
   "codemirror_mode": {
    "name": "ipython",
    "version": 3
   },
   "file_extension": ".py",
   "mimetype": "text/x-python",
   "name": "python",
   "nbconvert_exporter": "python",
   "pygments_lexer": "ipython3",
   "version": "3.5.1"
  }
 },
 "nbformat": 4,
 "nbformat_minor": 2
}
